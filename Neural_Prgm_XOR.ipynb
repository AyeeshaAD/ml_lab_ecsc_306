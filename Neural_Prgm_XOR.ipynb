{
 "cells": [
  {
   "cell_type": "code",
   "execution_count": 1,
   "metadata": {
    "collapsed": true
   },
   "outputs": [],
   "source": [
    "import tensorflow as tf\n",
    "sess = tf.InteractiveSession()"
   ]
  },
  {
   "cell_type": "code",
   "execution_count": 4,
   "metadata": {},
   "outputs": [
    {
     "name": "stdout",
     "output_type": "stream",
     "text": [
      "WARNING:tensorflow:From /home/ise/anaconda3/lib/python3.6/site-packages/tensorflow/python/util/tf_should_use.py:170: initialize_all_variables (from tensorflow.python.ops.variables) is deprecated and will be removed after 2017-03-02.\n",
      "Instructions for updating:\n",
      "Use `tf.global_variables_initializer` instead.\n",
      "step 0 : entropy 2.77224\n",
      "step 1 : entropy 2.77165\n",
      "step 2 : entropy 2.77054\n",
      "step 3 : entropy 2.77025\n",
      "step 4 : entropy 2.76863\n",
      "step 5 : entropy 2.76815\n",
      "step 6 : entropy 2.7667\n",
      "step 7 : entropy 2.7655\n",
      "step 8 : entropy 2.76374\n",
      "step 9 : entropy 2.76257\n",
      "step 10 : entropy 2.75955\n",
      "step 11 : entropy 2.75788\n",
      "step 12 : entropy 2.75466\n",
      "step 13 : entropy 2.75111\n",
      "step 14 : entropy 2.74707\n",
      "step 15 : entropy 2.743\n",
      "step 16 : entropy 2.73599\n",
      "step 17 : entropy 2.73064\n",
      "step 18 : entropy 2.72266\n",
      "step 19 : entropy 2.71261\n",
      "step 20 : entropy 2.70277\n",
      "step 21 : entropy 2.69077\n",
      "step 22 : entropy 2.6746\n",
      "step 23 : entropy 2.65829\n",
      "step 24 : entropy 2.64078\n",
      "step 25 : entropy 2.61373\n",
      "step 26 : entropy 2.59084\n",
      "step 27 : entropy 2.55954\n",
      "step 28 : entropy 2.52665\n",
      "step 29 : entropy 2.49247\n",
      "step 30 : entropy 2.46174\n",
      "step 31 : entropy 2.40157\n",
      "step 32 : entropy 2.35247\n",
      "step 33 : entropy 2.32711\n",
      "step 34 : entropy 2.24068\n",
      "step 35 : entropy 2.21266\n",
      "step 36 : entropy 2.11414\n",
      "step 37 : entropy 2.0434\n",
      "step 38 : entropy 2.00702\n",
      "step 39 : entropy 1.94287\n",
      "step 40 : entropy 1.80781\n",
      "step 41 : entropy 1.79207\n",
      "step 42 : entropy 1.64325\n",
      "step 43 : entropy 1.65094\n",
      "step 44 : entropy 1.51075\n",
      "step 45 : entropy 1.39088\n",
      "step 46 : entropy 1.31793\n",
      "step 47 : entropy 1.27962\n",
      "step 48 : entropy 1.21718\n",
      "step 49 : entropy 1.12484\n",
      "step 50 : entropy 1.07194\n",
      "accuracy 1.0\n",
      "[0 1 1 0]\n"
     ]
    }
   ],
   "source": [
    "x_ = [[0, 0], [0, 1], [1, 0], [1, 1]] # input\n",
    "#labels=[0,      1,      1,      0]   # output =>\n",
    "expect=[[1,0],  [0,1],  [0,1], [1,0]] # ONE HOT REPRESENTATION! 'class' [1,0]==0 [0,1]==1\n",
    "\n",
    "# x = tf.Variable(x_)\n",
    "x = tf.placeholder(\"float\", [None,2]) \n",
    "y_ = tf.placeholder(\"float\", [None, 2]) \n",
    "\n",
    "number_hidden_nodes = 20 # 20 outputs to create some room for negatives and positives\n",
    "\n",
    "W = tf.Variable(tf.random_uniform([2, number_hidden_nodes], -.01, .01))\n",
    "b = tf.Variable(tf.random_uniform([number_hidden_nodes], -.01, .01))\n",
    "hidden  = tf.nn.relu(tf.matmul(x,W) + b) # first layer.\n",
    "\n",
    " \n",
    "W2 = tf.Variable(tf.random_uniform([number_hidden_nodes,2], -.1, .1))\n",
    "b2 = tf.Variable(tf.zeros([2]))\n",
    "hidden2 = tf.matmul(hidden, W2)#+b2\n",
    "\n",
    "y = tf.nn.softmax(hidden2)\n",
    "\n",
    "\n",
    "# Define loss and optimizer\n",
    "cross_entropy = -tf.reduce_sum(y_*tf.log(y))\n",
    "train_step = tf.train.GradientDescentOptimizer(0.2).minimize(cross_entropy)\n",
    "\n",
    "# Train\n",
    "tf.initialize_all_variables().run()\n",
    "for step in range(1000):\n",
    "    feed_dict={x: x_, y_:expect } # feed the net with our inputs and desired outputs.\n",
    "    e,a=sess.run([cross_entropy,train_step],feed_dict)\n",
    "    if e<1:break # early stopping yay\n",
    "    print (\"step %d : entropy %s\" % (step,e)) # error/loss should decrease over time\n",
    "\n",
    "\n",
    "# Test trained model\n",
    "correct_prediction = tf.equal(tf.argmax(y,1), tf.argmax(y_,1)) # argmax along dim-1\n",
    "accuracy = tf.reduce_mean(tf.cast(correct_prediction, \"float\")) # [True, False, True, True] -> [1,0,1,1] -> 0.75.\n",
    "\n",
    "print (\"accuracy %s\"%(accuracy.eval({x: x_, y_: expect})))\n",
    "\n",
    "learned_output=tf.argmax(y,1)\n",
    "print (learned_output.eval({x: x_}))"
   ]
  },
  {
   "cell_type": "code",
   "execution_count": null,
   "metadata": {
    "collapsed": true
   },
   "outputs": [],
   "source": []
  }
 ],
 "metadata": {
  "kernelspec": {
   "display_name": "Python 3",
   "language": "python",
   "name": "python3"
  },
  "language_info": {
   "codemirror_mode": {
    "name": "ipython",
    "version": 3
   },
   "file_extension": ".py",
   "mimetype": "text/x-python",
   "name": "python",
   "nbconvert_exporter": "python",
   "pygments_lexer": "ipython3",
   "version": "3.6.1"
  }
 },
 "nbformat": 4,
 "nbformat_minor": 2
}
