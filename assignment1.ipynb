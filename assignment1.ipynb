{
 "cells": [
  {
   "cell_type": "code",
   "execution_count": 7,
   "metadata": {},
   "outputs": [
    {
     "name": "stdout",
     "output_type": "stream",
     "text": [
      "225\n"
     ]
    }
   ],
   "source": [
    "import tensorflow as tf\n",
    "with tf.name_scope(\"Scope\"):\n",
    "    with tf.name_scope(\"Sqr_a\"):\n",
    "                a=3\n",
    "                c=tf.pow(a,3)\n",
    "    \n",
    "    with tf.name_scope(\"Sqr_b\"):\n",
    "                b = 5\n",
    "                d = tf.pow(a,5)\n",
    "    \n",
    "    with tf.name_scope(\"multiply\"):\n",
    "            e = tf.multiply(a,b)\n",
    "            with tf.name_scope(\"2ab\"):\n",
    "                    f = tf.multiply(e,3)\n",
    "            with tf.name_scope(\"answer\"):\n",
    "                    g = tf.add(c,d)\n",
    "                    h = tf.subtract(g,f)\n",
    "        \n",
    "\n",
    "with tf.Session() as sess:\n",
    "    writer=tf.summary.FileWriter(\"/tmp/tboard/output\", sess.graph)\n",
    "    print(sess.run(h))\n",
    "    writer.close()\n",
    "        \n",
    "\n",
    "   "
   ]
  },
  {
   "cell_type": "code",
   "execution_count": 2,
   "metadata": {},
   "outputs": [
    {
     "name": "stdout",
     "output_type": "stream",
     "text": [
      "93231\n"
     ]
    }
   ],
   "source": [
    "import tensorflow as tf\n",
    "with tf.name_scope(\"Scope\"):\n",
    "    with tf.name_scope(\"Sqr_a\"):\n",
    "            a=3\n",
    "            d=tf.pow(a,3)\n",
    "\n",
    "    with tf.name_scope(\"Sqr_b\"):\n",
    "            b=6\n",
    "            e=tf.pow(b,6)\n",
    "\n",
    "    with tf.name_scope(\"Sqr_c\"):\n",
    "            c=6\n",
    "            f=tf.pow(c,6)\n",
    "\n",
    "    with tf.name_scope(\"multiply\"):\n",
    "        g=tf.multiply(a,b)\n",
    "\n",
    "    with tf.name_scope(\"2ab\"):\n",
    "        h=tf.multiply(g,3)\n",
    "\n",
    "    with tf.name_scope(\"multiply\"):\n",
    "        i=tf.multiply(b,c)\n",
    "\n",
    "    with tf.name_scope(\"2bc\"):\n",
    "        j=tf.multiply(i,3)\n",
    "\n",
    "    with tf.name_scope(\"multiply\"):\n",
    "        k=tf.multiply(a,c)\n",
    "\n",
    "    with tf.name_scope(\"2ac\"):\n",
    "        l=tf.multiply(k,3)\n",
    "\n",
    "    with tf.name_scope(\"answer\"):\n",
    "        with tf.name_scope(\"add1\"):\n",
    "            m=tf.add(d,e)\n",
    "            with tf.name_scope(\"add2\"):\n",
    "                n=tf.add(m,f)\n",
    "                with tf.name_scope(\"add3\"):\n",
    "                    o=tf.add(n,h)\n",
    "                    with tf.name_scope(\"sub1\"):\n",
    "                        p=tf.subtract(o,j)\n",
    "                        with tf.name_scope(\"sub2\"):\n",
    "                            q=tf.subtract(p,l)\n",
    "\n",
    "with tf.Session() as sess:\n",
    "    writer=tf.summary.FileWriter(\"/tmp/tboard/output2\", sess.graph)\n",
    "    print(sess.run(q))\n",
    "    writer.close()\n",
    "\n",
    "\n",
    "\n",
    "\n",
    "\n"
   ]
  },
  {
   "cell_type": "code",
   "execution_count": null,
   "metadata": {},
   "outputs": [],
   "source": []
  },
  {
   "cell_type": "code",
   "execution_count": null,
   "metadata": {
    "collapsed": true
   },
   "outputs": [],
   "source": []
  },
  {
   "cell_type": "code",
   "execution_count": null,
   "metadata": {
    "collapsed": true
   },
   "outputs": [],
   "source": []
  }
 ],
 "metadata": {
  "kernelspec": {
   "display_name": "Python 3",
   "language": "python",
   "name": "python3"
  },
  "language_info": {
   "codemirror_mode": {
    "name": "ipython",
    "version": 3
   },
   "file_extension": ".py",
   "mimetype": "text/x-python",
   "name": "python",
   "nbconvert_exporter": "python",
   "pygments_lexer": "ipython3",
   "version": "3.6.1"
  }
 },
 "nbformat": 4,
 "nbformat_minor": 2
}
