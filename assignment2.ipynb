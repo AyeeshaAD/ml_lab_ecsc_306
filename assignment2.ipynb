{
 "cells": [
  {
   "cell_type": "code",
   "execution_count": 4,
   "metadata": {},
   "outputs": [],
   "source": [
    "import tensorflow as tf\n",
    "\n",
    "x = tf.constant([3,5,7],dtype=tf.float32)\n",
    "y= tf.constant([4,6,8],dtype=tf.float32)\n",
    "\n",
    "with tf.name_scope(\"mean_x\"):\n",
    "    mean_x=0\n",
    "    mean_y=0\n",
    "    for i in range(3):\n",
    "        mean_x=tf.div(tf.add(x[i],mean_x),3)\n",
    "        mean_y=tf.div(tf.add(x[i],mean_y),3)\n",
    "\n",
    "\n",
    "\n",
    "\n"
   ]
  },
  {
   "cell_type": "code",
   "execution_count": 5,
   "metadata": {
    "collapsed": true
   },
   "outputs": [],
   "source": [
    "#variancex=pow((x[i]-meanx),2)+variancex\n",
    "        \n",
    "with tf.name_scope(\"Variance\"):\n",
    "    variance=0\n",
    "    for i in range(3):\n",
    "        a=tf.subtract(x[i],mean_x)\n",
    "        b=tf.pow(a,2)\n",
    "        variance=tf.add(b,variance)\n",
    "\n",
    "    \n",
    "        \n"
   ]
  },
  {
   "cell_type": "code",
   "execution_count": 6,
   "metadata": {
    "collapsed": true
   },
   "outputs": [],
   "source": [
    "#$$covariance = sum((x(i) - mean(x)) * (y(i) - mean(y))),\n",
    "with tf.name_scope(\"Covariance\"):\n",
    "    covariance=0\n",
    "    for i in range(3):\n",
    "        covariance=tf.add(tf.multiply(tf.subtract(x[i],mean_x),tf.subtract(y[i],mean_y)),covariance)\n",
    "\n",
    "                           "
   ]
  },
  {
   "cell_type": "code",
   "execution_count": 7,
   "metadata": {
    "collapsed": true
   },
   "outputs": [],
   "source": [
    "#$$c = covariance(x,y)/variance(x)$$\n",
    "with tf.name_scope(\"c\"):\n",
    "    c=tf.div(covariance,variance)\n"
   ]
  },
  {
   "cell_type": "code",
   "execution_count": 8,
   "metadata": {},
   "outputs": [
    {
     "name": "stdout",
     "output_type": "stream",
     "text": [
      "3.0\n",
      "3.0\n",
      "20.0\n",
      "26.0\n",
      "1.3\n",
      "-0.9\n"
     ]
    }
   ],
   "source": [
    "#$$m = mean(y) -c* mean(x)$$\n",
    "with tf.name_scope(\"m\"):\n",
    "    m=tf.subtract(mean_y,tf.multiply(c,mean_y))\n",
    "with tf.Session() as sess:\n",
    "    writer = tf.summary.FileWriter(\"/tmp/tboard/output\", sess.graph)\n",
    "    print(sess.run(mean_x))\n",
    "    print(sess.run(mean_y))\n",
    "    print(sess.run(variance))\n",
    "    print(sess.run(covariance))\n",
    "    print(sess.run(c))\n",
    "    print(sess.run(m))\n",
    "    writer.close()"
   ]
  },
  {
   "cell_type": "code",
   "execution_count": null,
   "metadata": {
    "collapsed": true
   },
   "outputs": [],
   "source": []
  }
 ],
 "metadata": {
  "kernelspec": {
   "display_name": "Python 3",
   "language": "python",
   "name": "python3"
  },
  "language_info": {
   "codemirror_mode": {
    "name": "ipython",
    "version": 3
   },
   "file_extension": ".py",
   "mimetype": "text/x-python",
   "name": "python",
   "nbconvert_exporter": "python",
   "pygments_lexer": "ipython3",
   "version": "3.6.1"
  }
 },
 "nbformat": 4,
 "nbformat_minor": 2
}
