{
 "cells": [
  {
   "cell_type": "code",
   "execution_count": 4,
   "metadata": {},
   "outputs": [
    {
     "name": "stdout",
     "output_type": "stream",
     "text": [
      "iteration=  0 cost=  0.762732\n",
      "iteration=  1000 cost=  0.50361\n",
      "iteration=  2000 cost=  0.386879\n",
      "iteration=  3000 cost=  0.317239\n",
      "iteration=  4000 cost=  0.270523\n",
      "iteration=  5000 cost=  0.236579\n",
      "iteration=  6000 cost=  0.21055\n",
      "iteration=  7000 cost=  0.189823\n",
      "iteration=  8000 cost=  0.172859\n",
      "iteration=  9000 cost=  0.158681\n",
      "iteration=  10000 cost=  0.146636\n",
      "iteration=  11000 cost=  0.136265\n",
      "iteration=  12000 cost=  0.127238\n",
      "Validating output for AND GATE\n",
      "[[ 0.0057521 ]\n",
      " [ 0.13507019]\n",
      " [ 0.13494813]\n",
      " [ 0.80809355]]\n"
     ]
    }
   ],
   "source": [
    "#AND Gate\n",
    "import tensorflow as tf\n",
    "import numpy as np\n",
    "x=tf.placeholder(tf.float32,shape=[None,2])\n",
    "y=tf.placeholder(tf.float32,shape=[None,1])\n",
    "\n",
    "weights=tf.Variable(tf.random_normal([2,1]),dtype=tf.float32)\n",
    "bias=tf.Variable(tf.random_normal([1]),dtype=tf.float32)\n",
    "\n",
    "\n",
    "multiply1=tf.add(tf.matmul(x,weights),bias)\n",
    "z=tf.nn.sigmoid(multiply1)\n",
    "\n",
    "\n",
    "cost=tf.reduce_mean((y*tf.log(z)+(1-y)*tf.log(1-z))*-1)\n",
    "optimizer = tf.train.GradientDescentOptimizer(0.01).minimize(cost)\n",
    "\n",
    "inp=np.array([[0,0],[0,1],[1,0],[1,1]])\n",
    "op=np.array([[0],[0],[0],[1]])\n",
    "with tf.Session() as sess:\n",
    "   \n",
    "    tf.global_variables_initializer().run()\n",
    "    for i in range(12001):\n",
    "        res,_=sess.run([cost,optimizer],feed_dict={x:inp,y:op})\n",
    "        if i%1000==0:\n",
    "            print (\"iteration= \",i,\"cost= \",res)\n",
    "    print (\"Validating output for AND GATE\")\n",
    "    result=sess.run(z,feed_dict={x:inp})\n",
    "    print (result)"
   ]
  },
  {
   "cell_type": "code",
   "execution_count": 5,
   "metadata": {},
   "outputs": [
    {
     "name": "stdout",
     "output_type": "stream",
     "text": [
      "iteration=  0 cost=  0.283249\n",
      "iteration=  1000 cost=  0.226449\n",
      "iteration=  2000 cost=  0.188428\n",
      "iteration=  3000 cost=  0.160931\n",
      "iteration=  4000 cost=  0.140138\n",
      "iteration=  5000 cost=  0.123886\n",
      "iteration=  6000 cost=  0.110855\n",
      "iteration=  7000 cost=  0.100188\n",
      "iteration=  8000 cost=  0.0913078\n",
      "iteration=  9000 cost=  0.0838086\n",
      "iteration=  10000 cost=  0.0773983\n",
      "iteration=  11000 cost=  0.0718604\n",
      "iteration=  12000 cost=  0.0670323\n",
      " \n",
      "Validating output for OR GATE\n",
      "[[ 0.14184919]\n",
      " [ 0.94580168]\n",
      " [ 0.94285804]\n",
      " [ 0.99942625]]\n"
     ]
    }
   ],
   "source": [
    "#OR Gate\n",
    "\n",
    "import tensorflow as tf\n",
    "import numpy as np\n",
    "x=tf.placeholder(tf.float32,shape=[None,2])\n",
    "y=tf.placeholder(tf.float32,shape=[None,1])\n",
    "\n",
    "weights=tf.Variable(tf.random_normal([2,1]),dtype=tf.float32)\n",
    "bias=tf.Variable(tf.random_normal([1]),dtype=tf.float32)\n",
    "\n",
    "\n",
    "multiply1=tf.add(tf.matmul(x,weights),bias)\n",
    "z=tf.nn.sigmoid(multiply1)\n",
    "\n",
    "\n",
    "cost=tf.reduce_mean((y*tf.log(z)+(1-y)*tf.log(1-z))*-1)\n",
    "optimizer = tf.train.GradientDescentOptimizer(0.01).minimize(cost)\n",
    "\n",
    "inp=np.array([[0,0],[0,1],[1,0],[1,1]])\n",
    "op=np.array([[0],[1],[1],[1]])\n",
    "with tf.Session() as sess:\n",
    "   \n",
    "    tf.global_variables_initializer().run()\n",
    "    for i in range(12001):\n",
    "        res,_=sess.run([cost,optimizer],feed_dict={x:inp,y:op})\n",
    "        if i%1000==0:\n",
    "            print (\"iteration= \",i,\"cost= \",res)\n",
    "    print (\" \")\n",
    "    print (\"Validating output for OR GATE\")\n",
    "    result=sess.run(z,feed_dict={x:inp})\n",
    "    print (result)"
   ]
  },
  {
   "cell_type": "code",
   "execution_count": 19,
   "metadata": {},
   "outputs": [
    {
     "name": "stdout",
     "output_type": "stream",
     "text": [
      "iteration=  0 cost=  0.727249\n",
      "iteration=  1000 cost=  0.704617\n",
      "iteration=  2000 cost=  0.69801\n",
      "iteration=  3000 cost=  0.695256\n",
      "iteration=  4000 cost=  0.694077\n",
      "iteration=  5000 cost=  0.693562\n",
      "iteration=  6000 cost=  0.693334\n",
      "iteration=  7000 cost=  0.693232\n",
      "iteration=  8000 cost=  0.693185\n",
      "iteration=  9000 cost=  0.693165\n",
      "iteration=  10000 cost=  0.693155\n",
      "iteration=  11000 cost=  0.693151\n",
      "iteration=  12000 cost=  0.693149\n",
      "Validating output for XNOR GATE\n",
      "[[ 0.49853209]\n",
      " [ 0.49982077]\n",
      " [ 0.49971846]\n",
      " [ 0.5010072 ]]\n"
     ]
    }
   ],
   "source": [
    "#XNOR Gate\n",
    "import tensorflow as tf\n",
    "import numpy as np\n",
    "x=tf.placeholder(tf.float32,shape=[None,2])\n",
    "y=tf.placeholder(tf.float32,shape=[None,1])\n",
    "\n",
    "weights=tf.Variable(tf.random_normal([2,1]),dtype=tf.float32)\n",
    "bias=tf.Variable(tf.random_normal([1]),dtype=tf.float32)\n",
    "\n",
    "\n",
    "multiply1=tf.add(tf.matmul(x,weights),bias)\n",
    "z=tf.nn.sigmoid(multiply1)\n",
    "\n",
    "\n",
    "cost=tf.reduce_mean((y*tf.log(z)+(1-y)*tf.log(1-z))*-1)\n",
    "optimizer = tf.train.GradientDescentOptimizer(0.01).minimize(cost)\n",
    "\n",
    "inp=np.array([[0,0],[0,1],[1,0],[1,1]])\n",
    "op=np.array([[1],[0],[0],[1]])\n",
    "with tf.Session() as sess:\n",
    "   \n",
    "    tf.global_variables_initializer().run()\n",
    "    for i in range(12001):\n",
    "        res,_=sess.run([cost,optimizer],feed_dict={x:inp,y:op})\n",
    "        if i%1000==0:\n",
    "            print (\"iteration= \",i,\"cost= \",res)\n",
    "    print (\"Validating output for XNOR GATE\")\n",
    "    result=sess.run(z,feed_dict={x:inp})\n",
    "    print (result)"
   ]
  },
  {
   "cell_type": "code",
   "execution_count": null,
   "metadata": {
    "collapsed": true
   },
   "outputs": [],
   "source": []
  }
 ],
 "metadata": {
  "kernelspec": {
   "display_name": "Python 3",
   "language": "python",
   "name": "python3"
  },
  "language_info": {
   "codemirror_mode": {
    "name": "ipython",
    "version": 3
   },
   "file_extension": ".py",
   "mimetype": "text/x-python",
   "name": "python",
   "nbconvert_exporter": "python",
   "pygments_lexer": "ipython3",
   "version": "3.6.1"
  }
 },
 "nbformat": 4,
 "nbformat_minor": 2
}
